{
 "cells": [
  {
   "cell_type": "markdown",
   "id": "89c57fcc",
   "metadata": {},
   "source": [
    "## Übungen zur Lektion 1: Select mit der cia-Datenbank"
   ]
  },
  {
   "cell_type": "code",
   "execution_count": 2,
   "id": "c8ef1a53",
   "metadata": {},
   "outputs": [
    {
     "data": {
      "text/plain": [
       "235"
      ]
     },
     "execution_count": 2,
     "metadata": {},
     "output_type": "execute_result"
    }
   ],
   "source": [
    "import pandas as pd\n",
    "import sqlite3\n",
    "con = sqlite3.connect('../../data/cia.db')\n",
    "df = pd.read_sql(\"SELECT * FROM cia\", con)\n",
    "len(df)"
   ]
  },
  {
   "cell_type": "markdown",
   "id": "862c4ee0",
   "metadata": {},
   "source": [
    "## Aufgaben"
   ]
  },
  {
   "attachments": {},
   "cell_type": "markdown",
   "id": "15486a9f",
   "metadata": {},
   "source": [
    "Aufgabe 1. Gib alle Daten der Tabelle 'cia' aus."
   ]
  },
  {
   "cell_type": "code",
   "execution_count": 7,
   "id": "64ebd362",
   "metadata": {
    "scrolled": false
   },
   "outputs": [
    {
     "data": {
      "text/html": [
       "<div>\n",
       "<style scoped>\n",
       "    .dataframe tbody tr th:only-of-type {\n",
       "        vertical-align: middle;\n",
       "    }\n",
       "\n",
       "    .dataframe tbody tr th {\n",
       "        vertical-align: top;\n",
       "    }\n",
       "\n",
       "    .dataframe thead th {\n",
       "        text-align: right;\n",
       "    }\n",
       "</style>\n",
       "<table border=\"1\" class=\"dataframe\">\n",
       "  <thead>\n",
       "    <tr style=\"text-align: right;\">\n",
       "      <th></th>\n",
       "      <th>Name</th>\n",
       "    </tr>\n",
       "  </thead>\n",
       "  <tbody>\n",
       "    <tr>\n",
       "      <th>0</th>\n",
       "      <td>Afghanistan</td>\n",
       "    </tr>\n",
       "    <tr>\n",
       "      <th>1</th>\n",
       "      <td>Albanien</td>\n",
       "    </tr>\n",
       "    <tr>\n",
       "      <th>2</th>\n",
       "      <td>Algerien</td>\n",
       "    </tr>\n",
       "    <tr>\n",
       "      <th>3</th>\n",
       "      <td>Amerikanische Samoa-Inseln</td>\n",
       "    </tr>\n",
       "    <tr>\n",
       "      <th>4</th>\n",
       "      <td>Andorra</td>\n",
       "    </tr>\n",
       "    <tr>\n",
       "      <th>...</th>\n",
       "      <td>...</td>\n",
       "    </tr>\n",
       "    <tr>\n",
       "      <th>122</th>\n",
       "      <td>Liechtenstein</td>\n",
       "    </tr>\n",
       "    <tr>\n",
       "      <th>123</th>\n",
       "      <td>Litauen</td>\n",
       "    </tr>\n",
       "    <tr>\n",
       "      <th>124</th>\n",
       "      <td>Luxemburg</td>\n",
       "    </tr>\n",
       "    <tr>\n",
       "      <th>221</th>\n",
       "      <td>Groß-Britannien</td>\n",
       "    </tr>\n",
       "    <tr>\n",
       "      <th>232</th>\n",
       "      <td>Jemen</td>\n",
       "    </tr>\n",
       "  </tbody>\n",
       "</table>\n",
       "<p>117 rows × 1 columns</p>\n",
       "</div>"
      ],
      "text/plain": [
       "                           Name\n",
       "0                   Afghanistan\n",
       "1                      Albanien\n",
       "2                      Algerien\n",
       "3    Amerikanische Samoa-Inseln\n",
       "4                       Andorra\n",
       "..                          ...\n",
       "122               Liechtenstein\n",
       "123                     Litauen\n",
       "124                   Luxemburg\n",
       "221             Groß-Britannien\n",
       "232                       Jemen\n",
       "\n",
       "[117 rows x 1 columns]"
      ]
     },
     "execution_count": 7,
     "metadata": {},
     "output_type": "execute_result"
    }
   ],
   "source": [
    "df[df.Name < \"M\"][[\"Name\"]]"
   ]
  },
  {
   "cell_type": "markdown",
   "id": "6423c8ed",
   "metadata": {},
   "source": [
    "Aufgabe 2: Gib die Namen aller Länder aus."
   ]
  },
  {
   "cell_type": "code",
   "execution_count": null,
   "id": "6b475471",
   "metadata": {},
   "outputs": [],
   "source": []
  },
  {
   "cell_type": "markdown",
   "id": "c21a05ea",
   "metadata": {},
   "source": [
    "Aufgabe 3: Gib alle Länder an, die mehr als 100 Millionen (1E08) Einwohner haben."
   ]
  },
  {
   "cell_type": "code",
   "execution_count": null,
   "id": "15c2b5d8",
   "metadata": {},
   "outputs": [],
   "source": []
  },
  {
   "cell_type": "markdown",
   "id": "eea30faa",
   "metadata": {},
   "source": [
    "Aufgabe 4: Gib die Länder an, die ein Bruttosozialprodukt (BIP) zwischen 1 und 100 Milliarden haben und in Asien liegen."
   ]
  },
  {
   "cell_type": "code",
   "execution_count": 6,
   "id": "e0a9b7b4",
   "metadata": {},
   "outputs": [
    {
     "data": {
      "text/html": [
       "<div>\n",
       "<style scoped>\n",
       "    .dataframe tbody tr th:only-of-type {\n",
       "        vertical-align: middle;\n",
       "    }\n",
       "\n",
       "    .dataframe tbody tr th {\n",
       "        vertical-align: top;\n",
       "    }\n",
       "\n",
       "    .dataframe thead th {\n",
       "        text-align: right;\n",
       "    }\n",
       "</style>\n",
       "<table border=\"1\" class=\"dataframe\">\n",
       "  <thead>\n",
       "    <tr style=\"text-align: right;\">\n",
       "      <th></th>\n",
       "      <th>Name</th>\n",
       "    </tr>\n",
       "  </thead>\n",
       "  <tbody>\n",
       "    <tr>\n",
       "      <th>0</th>\n",
       "      <td>Afghanistan</td>\n",
       "    </tr>\n",
       "    <tr>\n",
       "      <th>24</th>\n",
       "      <td>Bhutan</td>\n",
       "    </tr>\n",
       "    <tr>\n",
       "      <th>112</th>\n",
       "      <td>Korea, Nord</td>\n",
       "    </tr>\n",
       "    <tr>\n",
       "      <th>143</th>\n",
       "      <td>Mongolei</td>\n",
       "    </tr>\n",
       "    <tr>\n",
       "      <th>149</th>\n",
       "      <td>Nepal</td>\n",
       "    </tr>\n",
       "    <tr>\n",
       "      <th>197</th>\n",
       "      <td>Sri Lanka</td>\n",
       "    </tr>\n",
       "  </tbody>\n",
       "</table>\n",
       "</div>"
      ],
      "text/plain": [
       "            Name\n",
       "0    Afghanistan\n",
       "24        Bhutan\n",
       "112  Korea, Nord\n",
       "143     Mongolei\n",
       "149        Nepal\n",
       "197    Sri Lanka"
      ]
     },
     "execution_count": 6,
     "metadata": {},
     "output_type": "execute_result"
    }
   ],
   "source": [
    "df[[\"Name\"]] [  (df.BIP.between(1E9, 100E9))  & (df.Region == \"Asien\")   ]"
   ]
  },
  {
   "cell_type": "markdown",
   "id": "e3307f32",
   "metadata": {},
   "source": [
    "Aufgabe 5: Gib die Einwohnerzahlen für Frankreich, Deutschland und Polen aus."
   ]
  },
  {
   "cell_type": "code",
   "execution_count": 7,
   "id": "9e57668d",
   "metadata": {
    "scrolled": false
   },
   "outputs": [
    {
     "data": {
      "text/html": [
       "<div>\n",
       "<style scoped>\n",
       "    .dataframe tbody tr th:only-of-type {\n",
       "        vertical-align: middle;\n",
       "    }\n",
       "\n",
       "    .dataframe tbody tr th {\n",
       "        vertical-align: top;\n",
       "    }\n",
       "\n",
       "    .dataframe thead th {\n",
       "        text-align: right;\n",
       "    }\n",
       "</style>\n",
       "<table border=\"1\" class=\"dataframe\">\n",
       "  <thead>\n",
       "    <tr style=\"text-align: right;\">\n",
       "      <th></th>\n",
       "      <th>Name</th>\n",
       "      <th>Einwohner in Mio</th>\n",
       "    </tr>\n",
       "  </thead>\n",
       "  <tbody>\n",
       "    <tr>\n",
       "      <th>72</th>\n",
       "      <td>Frankreich</td>\n",
       "      <td>59.33</td>\n",
       "    </tr>\n",
       "    <tr>\n",
       "      <th>79</th>\n",
       "      <td>Deutschland</td>\n",
       "      <td>82.80</td>\n",
       "    </tr>\n",
       "    <tr>\n",
       "      <th>170</th>\n",
       "      <td>Polen</td>\n",
       "      <td>38.65</td>\n",
       "    </tr>\n",
       "  </tbody>\n",
       "</table>\n",
       "</div>"
      ],
      "text/plain": [
       "            Name  Einwohner in Mio\n",
       "72    Frankreich             59.33\n",
       "79   Deutschland             82.80\n",
       "170        Polen             38.65"
      ]
     },
     "execution_count": 7,
     "metadata": {},
     "output_type": "execute_result"
    }
   ],
   "source": [
    " df[[\"Name\", \"Einwohner in Mio\"]] [ df.Name.str.contains(\"Frankreich|Deutschland|Polen\", regex=True)   ] #  \"Frankreich|Deutschland|Polen\""
   ]
  },
  {
   "cell_type": "code",
   "execution_count": 8,
   "id": "2f79d438",
   "metadata": {},
   "outputs": [
    {
     "data": {
      "text/html": [
       "<div>\n",
       "<style scoped>\n",
       "    .dataframe tbody tr th:only-of-type {\n",
       "        vertical-align: middle;\n",
       "    }\n",
       "\n",
       "    .dataframe tbody tr th {\n",
       "        vertical-align: top;\n",
       "    }\n",
       "\n",
       "    .dataframe thead th {\n",
       "        text-align: right;\n",
       "    }\n",
       "</style>\n",
       "<table border=\"1\" class=\"dataframe\">\n",
       "  <thead>\n",
       "    <tr style=\"text-align: right;\">\n",
       "      <th></th>\n",
       "      <th>Name</th>\n",
       "      <th>Einwohner in Mio</th>\n",
       "    </tr>\n",
       "  </thead>\n",
       "  <tbody>\n",
       "    <tr>\n",
       "      <th>79</th>\n",
       "      <td>Deutschland</td>\n",
       "      <td>82.80</td>\n",
       "    </tr>\n",
       "    <tr>\n",
       "      <th>170</th>\n",
       "      <td>Polen</td>\n",
       "      <td>38.65</td>\n",
       "    </tr>\n",
       "  </tbody>\n",
       "</table>\n",
       "</div>"
      ],
      "text/plain": [
       "            Name  Einwohner in Mio\n",
       "79   Deutschland             82.80\n",
       "170        Polen             38.65"
      ]
     },
     "execution_count": 8,
     "metadata": {},
     "output_type": "execute_result"
    }
   ],
   "source": [
    "df[[\"Name\", \"Einwohner in Mio\"]][(df[\"Name\"] == \"Deutschland\") | (df[\"Name\"] ==\"Polen\")] "
   ]
  },
  {
   "cell_type": "markdown",
   "id": "71cb8274",
   "metadata": {},
   "source": [
    "Aufgabe 6. Zeige Name und Einwohnerzahl in Millionen für die Länder Südamerikas."
   ]
  },
  {
   "cell_type": "code",
   "execution_count": 11,
   "id": "f19f5a51",
   "metadata": {},
   "outputs": [
    {
     "data": {
      "text/html": [
       "<div>\n",
       "<style scoped>\n",
       "    .dataframe tbody tr th:only-of-type {\n",
       "        vertical-align: middle;\n",
       "    }\n",
       "\n",
       "    .dataframe tbody tr th {\n",
       "        vertical-align: top;\n",
       "    }\n",
       "\n",
       "    .dataframe thead th {\n",
       "        text-align: right;\n",
       "    }\n",
       "</style>\n",
       "<table border=\"1\" class=\"dataframe\">\n",
       "  <thead>\n",
       "    <tr style=\"text-align: right;\">\n",
       "      <th></th>\n",
       "      <th>Name</th>\n",
       "      <th>Einwohner in Mio</th>\n",
       "    </tr>\n",
       "  </thead>\n",
       "  <tbody>\n",
       "    <tr>\n",
       "      <th>28</th>\n",
       "      <td>Brasilien</td>\n",
       "      <td>172.86</td>\n",
       "    </tr>\n",
       "    <tr>\n",
       "      <th>46</th>\n",
       "      <td>Kolumbien</td>\n",
       "      <td>39.69</td>\n",
       "    </tr>\n",
       "    <tr>\n",
       "      <th>9</th>\n",
       "      <td>Argentinien</td>\n",
       "      <td>36.96</td>\n",
       "    </tr>\n",
       "    <tr>\n",
       "      <th>167</th>\n",
       "      <td>Peru</td>\n",
       "      <td>27.01</td>\n",
       "    </tr>\n",
       "    <tr>\n",
       "      <th>226</th>\n",
       "      <td>Venezuela</td>\n",
       "      <td>23.54</td>\n",
       "    </tr>\n",
       "    <tr>\n",
       "      <th>42</th>\n",
       "      <td>Chile</td>\n",
       "      <td>15.15</td>\n",
       "    </tr>\n",
       "    <tr>\n",
       "      <th>61</th>\n",
       "      <td>Ecuador</td>\n",
       "      <td>12.92</td>\n",
       "    </tr>\n",
       "    <tr>\n",
       "      <th>25</th>\n",
       "      <td>Bolivien</td>\n",
       "      <td>8.15</td>\n",
       "    </tr>\n",
       "    <tr>\n",
       "      <th>166</th>\n",
       "      <td>Paraguay</td>\n",
       "      <td>5.59</td>\n",
       "    </tr>\n",
       "    <tr>\n",
       "      <th>223</th>\n",
       "      <td>Uruguay</td>\n",
       "      <td>3.33</td>\n",
       "    </tr>\n",
       "    <tr>\n",
       "      <th>91</th>\n",
       "      <td>Guyana</td>\n",
       "      <td>0.70</td>\n",
       "    </tr>\n",
       "    <tr>\n",
       "      <th>199</th>\n",
       "      <td>Suriname</td>\n",
       "      <td>0.43</td>\n",
       "    </tr>\n",
       "    <tr>\n",
       "      <th>73</th>\n",
       "      <td>Französisch-Guayana</td>\n",
       "      <td>0.17</td>\n",
       "    </tr>\n",
       "    <tr>\n",
       "      <th>68</th>\n",
       "      <td>Falkland Islands (Islas Malvinas)</td>\n",
       "      <td>0.00</td>\n",
       "    </tr>\n",
       "  </tbody>\n",
       "</table>\n",
       "</div>"
      ],
      "text/plain": [
       "                                  Name  Einwohner in Mio\n",
       "28                           Brasilien            172.86\n",
       "46                           Kolumbien             39.69\n",
       "9                          Argentinien             36.96\n",
       "167                               Peru             27.01\n",
       "226                          Venezuela             23.54\n",
       "42                               Chile             15.15\n",
       "61                             Ecuador             12.92\n",
       "25                            Bolivien              8.15\n",
       "166                           Paraguay              5.59\n",
       "223                            Uruguay              3.33\n",
       "91                              Guyana              0.70\n",
       "199                           Suriname              0.43\n",
       "73                 Französisch-Guayana              0.17\n",
       "68   Falkland Islands (Islas Malvinas)              0.00"
      ]
     },
     "execution_count": 11,
     "metadata": {},
     "output_type": "execute_result"
    }
   ],
   "source": [
    "df[df[\"Region\"]==\"Südamerika\"][[\"Name\", \"Einwohner in Mio\"]].sort_values(by= \"Einwohner in Mio\", ascending = False)"
   ]
  },
  {
   "cell_type": "code",
   "execution_count": null,
   "id": "e78a874e",
   "metadata": {},
   "outputs": [],
   "source": []
  },
  {
   "cell_type": "markdown",
   "id": "b8427a80",
   "metadata": {},
   "source": [
    "Aufgabe 7. Gib die Namen und das pro Kopf-Jahreseinkommen der Länder mit mehr als 200 Millionen Einwohnern aus."
   ]
  },
  {
   "cell_type": "code",
   "execution_count": 13,
   "id": "49fc2c71",
   "metadata": {},
   "outputs": [
    {
     "data": {
      "text/html": [
       "<div>\n",
       "<style scoped>\n",
       "    .dataframe tbody tr th:only-of-type {\n",
       "        vertical-align: middle;\n",
       "    }\n",
       "\n",
       "    .dataframe tbody tr th {\n",
       "        vertical-align: top;\n",
       "    }\n",
       "\n",
       "    .dataframe thead th {\n",
       "        text-align: right;\n",
       "    }\n",
       "</style>\n",
       "<table border=\"1\" class=\"dataframe\">\n",
       "  <thead>\n",
       "    <tr style=\"text-align: right;\">\n",
       "      <th></th>\n",
       "      <th>Name</th>\n",
       "      <th>BIP</th>\n",
       "      <th>Pro Kopf</th>\n",
       "    </tr>\n",
       "  </thead>\n",
       "  <tbody>\n",
       "    <tr>\n",
       "      <th>43</th>\n",
       "      <td>China</td>\n",
       "      <td>4.800000e+12</td>\n",
       "      <td>3803.991472</td>\n",
       "    </tr>\n",
       "    <tr>\n",
       "      <th>98</th>\n",
       "      <td>Indien</td>\n",
       "      <td>1.805000e+12</td>\n",
       "      <td>1780.072195</td>\n",
       "    </tr>\n",
       "    <tr>\n",
       "      <th>99</th>\n",
       "      <td>Indonesien</td>\n",
       "      <td>6.100000e+11</td>\n",
       "      <td>2713.713744</td>\n",
       "    </tr>\n",
       "    <tr>\n",
       "      <th>222</th>\n",
       "      <td>Vereinigte Staaten von Amerika</td>\n",
       "      <td>9.255000e+12</td>\n",
       "      <td>33585.826045</td>\n",
       "    </tr>\n",
       "  </tbody>\n",
       "</table>\n",
       "</div>"
      ],
      "text/plain": [
       "                               Name           BIP      Pro Kopf\n",
       "43                            China  4.800000e+12   3803.991472\n",
       "98                           Indien  1.805000e+12   1780.072195\n",
       "99                       Indonesien  6.100000e+11   2713.713744\n",
       "222  Vereinigte Staaten von Amerika  9.255000e+12  33585.826045"
      ]
     },
     "execution_count": 13,
     "metadata": {},
     "output_type": "execute_result"
    }
   ],
   "source": [
    "x = df[[\"Name\", \"BIP\"]][df[\"Einwohner\"] >= 200E6]\n",
    "x[\"Pro Kopf\"] = df.BIP / df.Einwohner\n",
    "x"
   ]
  },
  {
   "cell_type": "markdown",
   "id": "a85720fa",
   "metadata": {},
   "source": [
    "Aufgabe 8. Wie vorherige Aufgabe, allerdings sollen die Ergebnisse absteigend nach dem pro Kopf Jahreseinkommen sortiert werden."
   ]
  },
  {
   "cell_type": "code",
   "execution_count": 14,
   "id": "ebbb70ca",
   "metadata": {},
   "outputs": [
    {
     "data": {
      "text/html": [
       "<div>\n",
       "<style scoped>\n",
       "    .dataframe tbody tr th:only-of-type {\n",
       "        vertical-align: middle;\n",
       "    }\n",
       "\n",
       "    .dataframe tbody tr th {\n",
       "        vertical-align: top;\n",
       "    }\n",
       "\n",
       "    .dataframe thead th {\n",
       "        text-align: right;\n",
       "    }\n",
       "</style>\n",
       "<table border=\"1\" class=\"dataframe\">\n",
       "  <thead>\n",
       "    <tr style=\"text-align: right;\">\n",
       "      <th></th>\n",
       "      <th>Name</th>\n",
       "      <th>BIP</th>\n",
       "      <th>Pro Kopf</th>\n",
       "    </tr>\n",
       "  </thead>\n",
       "  <tbody>\n",
       "    <tr>\n",
       "      <th>222</th>\n",
       "      <td>Vereinigte Staaten von Amerika</td>\n",
       "      <td>9.255000e+12</td>\n",
       "      <td>33585.826045</td>\n",
       "    </tr>\n",
       "    <tr>\n",
       "      <th>43</th>\n",
       "      <td>China</td>\n",
       "      <td>4.800000e+12</td>\n",
       "      <td>3803.991472</td>\n",
       "    </tr>\n",
       "    <tr>\n",
       "      <th>99</th>\n",
       "      <td>Indonesien</td>\n",
       "      <td>6.100000e+11</td>\n",
       "      <td>2713.713744</td>\n",
       "    </tr>\n",
       "    <tr>\n",
       "      <th>98</th>\n",
       "      <td>Indien</td>\n",
       "      <td>1.805000e+12</td>\n",
       "      <td>1780.072195</td>\n",
       "    </tr>\n",
       "  </tbody>\n",
       "</table>\n",
       "</div>"
      ],
      "text/plain": [
       "                               Name           BIP      Pro Kopf\n",
       "222  Vereinigte Staaten von Amerika  9.255000e+12  33585.826045\n",
       "43                            China  4.800000e+12   3803.991472\n",
       "99                       Indonesien  6.100000e+11   2713.713744\n",
       "98                           Indien  1.805000e+12   1780.072195"
      ]
     },
     "execution_count": 14,
     "metadata": {},
     "output_type": "execute_result"
    }
   ],
   "source": [
    "x.sort_values(by='Pro Kopf', ascending= False)"
   ]
  },
  {
   "cell_type": "markdown",
   "id": "3f2c4637",
   "metadata": {},
   "source": [
    "Aufgabe 9. In welchen Ländernamen kommt das Wort 'Vereinigte' vor?"
   ]
  },
  {
   "cell_type": "code",
   "execution_count": 18,
   "id": "bc1245e1",
   "metadata": {},
   "outputs": [
    {
     "data": {
      "text/html": [
       "<div>\n",
       "<style scoped>\n",
       "    .dataframe tbody tr th:only-of-type {\n",
       "        vertical-align: middle;\n",
       "    }\n",
       "\n",
       "    .dataframe tbody tr th {\n",
       "        vertical-align: top;\n",
       "    }\n",
       "\n",
       "    .dataframe thead th {\n",
       "        text-align: right;\n",
       "    }\n",
       "</style>\n",
       "<table border=\"1\" class=\"dataframe\">\n",
       "  <thead>\n",
       "    <tr style=\"text-align: right;\">\n",
       "      <th></th>\n",
       "      <th>LID</th>\n",
       "      <th>Name</th>\n",
       "      <th>Region</th>\n",
       "      <th>Flaeche</th>\n",
       "      <th>Einwohner</th>\n",
       "      <th>BIP</th>\n",
       "      <th>Einwohner in Mio</th>\n",
       "    </tr>\n",
       "  </thead>\n",
       "  <tbody>\n",
       "    <tr>\n",
       "      <th>220</th>\n",
       "      <td>221</td>\n",
       "      <td>Vereinigte Arabische Emirate</td>\n",
       "      <td>Mittlerer Osten</td>\n",
       "      <td>82880</td>\n",
       "      <td>2369153.0</td>\n",
       "      <td>4.150000e+10</td>\n",
       "      <td>2.37</td>\n",
       "    </tr>\n",
       "    <tr>\n",
       "      <th>222</th>\n",
       "      <td>223</td>\n",
       "      <td>Vereinigte Staaten von Amerika</td>\n",
       "      <td>Nordamerika</td>\n",
       "      <td>9629091</td>\n",
       "      <td>275562673.0</td>\n",
       "      <td>9.255000e+12</td>\n",
       "      <td>275.56</td>\n",
       "    </tr>\n",
       "  </tbody>\n",
       "</table>\n",
       "</div>"
      ],
      "text/plain": [
       "     LID                            Name           Region  Flaeche  \\\n",
       "220  221    Vereinigte Arabische Emirate  Mittlerer Osten    82880   \n",
       "222  223  Vereinigte Staaten von Amerika      Nordamerika  9629091   \n",
       "\n",
       "       Einwohner           BIP  Einwohner in Mio  \n",
       "220    2369153.0  4.150000e+10              2.37  \n",
       "222  275562673.0  9.255000e+12            275.56  "
      ]
     },
     "execution_count": 18,
     "metadata": {},
     "output_type": "execute_result"
    }
   ],
   "source": [
    "df[df['Name'].str.contains('vereinigte',case = False)]"
   ]
  },
  {
   "cell_type": "markdown",
   "id": "2b2b5d46",
   "metadata": {},
   "source": [
    "Aufgabe 10. Lasse Dir in alphabetischer Reihenfolge alle verschiedenen Regionen anzeigen."
   ]
  },
  {
   "cell_type": "code",
   "execution_count": 61,
   "id": "91480a18",
   "metadata": {},
   "outputs": [
    {
     "data": {
      "text/html": [
       "<div>\n",
       "<style scoped>\n",
       "    .dataframe tbody tr th:only-of-type {\n",
       "        vertical-align: middle;\n",
       "    }\n",
       "\n",
       "    .dataframe tbody tr th {\n",
       "        vertical-align: top;\n",
       "    }\n",
       "\n",
       "    .dataframe thead th {\n",
       "        text-align: right;\n",
       "    }\n",
       "</style>\n",
       "<table border=\"1\" class=\"dataframe\">\n",
       "  <thead>\n",
       "    <tr style=\"text-align: right;\">\n",
       "      <th></th>\n",
       "      <th>0</th>\n",
       "    </tr>\n",
       "  </thead>\n",
       "  <tbody>\n",
       "    <tr>\n",
       "      <th>0</th>\n",
       "      <td>Afrika</td>\n",
       "    </tr>\n",
       "    <tr>\n",
       "      <th>1</th>\n",
       "      <td>Antarktis</td>\n",
       "    </tr>\n",
       "    <tr>\n",
       "      <th>2</th>\n",
       "      <td>Arktik-Region</td>\n",
       "    </tr>\n",
       "    <tr>\n",
       "      <th>3</th>\n",
       "      <td>Asien</td>\n",
       "    </tr>\n",
       "    <tr>\n",
       "      <th>4</th>\n",
       "      <td>Europa</td>\n",
       "    </tr>\n",
       "    <tr>\n",
       "      <th>5</th>\n",
       "      <td>Mittelamerika</td>\n",
       "    </tr>\n",
       "    <tr>\n",
       "      <th>6</th>\n",
       "      <td>Mittlerer Osten</td>\n",
       "    </tr>\n",
       "    <tr>\n",
       "      <th>7</th>\n",
       "      <td>Nordamerika</td>\n",
       "    </tr>\n",
       "    <tr>\n",
       "      <th>8</th>\n",
       "      <td>Osteuropa</td>\n",
       "    </tr>\n",
       "    <tr>\n",
       "      <th>9</th>\n",
       "      <td>Ozeanien</td>\n",
       "    </tr>\n",
       "    <tr>\n",
       "      <th>10</th>\n",
       "      <td>Südamerika</td>\n",
       "    </tr>\n",
       "    <tr>\n",
       "      <th>11</th>\n",
       "      <td>Südostasien</td>\n",
       "    </tr>\n",
       "    <tr>\n",
       "      <th>12</th>\n",
       "      <td>Welt</td>\n",
       "    </tr>\n",
       "  </tbody>\n",
       "</table>\n",
       "</div>"
      ],
      "text/plain": [
       "                  0\n",
       "0            Afrika\n",
       "1         Antarktis\n",
       "2     Arktik-Region\n",
       "3             Asien\n",
       "4            Europa\n",
       "5     Mittelamerika\n",
       "6   Mittlerer Osten\n",
       "7       Nordamerika\n",
       "8         Osteuropa\n",
       "9          Ozeanien\n",
       "10       Südamerika\n",
       "11      Südostasien\n",
       "12             Welt"
      ]
     },
     "execution_count": 61,
     "metadata": {},
     "output_type": "execute_result"
    }
   ],
   "source": [
    "pd.DataFrame(df.sort_values(by = 'Region', ascending = True)['Region'].unique())\n"
   ]
  },
  {
   "cell_type": "markdown",
   "id": "b0d6fe46",
   "metadata": {},
   "source": [
    "Aufgabe 11. Zeige alle Länder, bei denen das Bruttoinlandsprodukt unbekannt ist."
   ]
  },
  {
   "cell_type": "code",
   "execution_count": 86,
   "id": "77feabac",
   "metadata": {},
   "outputs": [
    {
     "data": {
      "text/html": [
       "<div>\n",
       "<style scoped>\n",
       "    .dataframe tbody tr th:only-of-type {\n",
       "        vertical-align: middle;\n",
       "    }\n",
       "\n",
       "    .dataframe tbody tr th {\n",
       "        vertical-align: top;\n",
       "    }\n",
       "\n",
       "    .dataframe thead th {\n",
       "        text-align: right;\n",
       "    }\n",
       "</style>\n",
       "<table border=\"1\" class=\"dataframe\">\n",
       "  <thead>\n",
       "    <tr style=\"text-align: right;\">\n",
       "      <th></th>\n",
       "      <th>Name</th>\n",
       "      <th>BIP</th>\n",
       "    </tr>\n",
       "  </thead>\n",
       "  <tbody>\n",
       "    <tr>\n",
       "      <th>7</th>\n",
       "      <td>Antarktik</td>\n",
       "      <td>NaN</td>\n",
       "    </tr>\n",
       "    <tr>\n",
       "      <th>44</th>\n",
       "      <td>Christmas Island</td>\n",
       "      <td>NaN</td>\n",
       "    </tr>\n",
       "    <tr>\n",
       "      <th>45</th>\n",
       "      <td>Cocos )(Keeling) Islands</td>\n",
       "      <td>NaN</td>\n",
       "    </tr>\n",
       "    <tr>\n",
       "      <th>68</th>\n",
       "      <td>Falkland Islands (Islas Malvinas)</td>\n",
       "      <td>NaN</td>\n",
       "    </tr>\n",
       "    <tr>\n",
       "      <th>81</th>\n",
       "      <td>Gibraltar</td>\n",
       "      <td>NaN</td>\n",
       "    </tr>\n",
       "    <tr>\n",
       "      <th>93</th>\n",
       "      <td>Vatikan Stadt</td>\n",
       "      <td>NaN</td>\n",
       "    </tr>\n",
       "    <tr>\n",
       "      <th>158</th>\n",
       "      <td>Norfolk Island</td>\n",
       "      <td>NaN</td>\n",
       "    </tr>\n",
       "    <tr>\n",
       "      <th>169</th>\n",
       "      <td>Pitcairn Islands</td>\n",
       "      <td>NaN</td>\n",
       "    </tr>\n",
       "    <tr>\n",
       "      <th>200</th>\n",
       "      <td>Svalbard</td>\n",
       "      <td>NaN</td>\n",
       "    </tr>\n",
       "    <tr>\n",
       "      <th>231</th>\n",
       "      <td>Westliche Sahara</td>\n",
       "      <td>NaN</td>\n",
       "    </tr>\n",
       "  </tbody>\n",
       "</table>\n",
       "</div>"
      ],
      "text/plain": [
       "                                  Name  BIP\n",
       "7                            Antarktik  NaN\n",
       "44                    Christmas Island  NaN\n",
       "45            Cocos )(Keeling) Islands  NaN\n",
       "68   Falkland Islands (Islas Malvinas)  NaN\n",
       "81                           Gibraltar  NaN\n",
       "93                       Vatikan Stadt  NaN\n",
       "158                     Norfolk Island  NaN\n",
       "169                   Pitcairn Islands  NaN\n",
       "200                           Svalbard  NaN\n",
       "231                   Westliche Sahara  NaN"
      ]
     },
     "execution_count": 86,
     "metadata": {},
     "output_type": "execute_result"
    }
   ],
   "source": [
    "df[[\"Name\",\"BIP\"]] [ df.BIP.isnull() ]"
   ]
  },
  {
   "cell_type": "code",
   "execution_count": null,
   "id": "0b32f364",
   "metadata": {},
   "outputs": [],
   "source": []
  },
  {
   "cell_type": "code",
   "execution_count": null,
   "id": "53ac0c4c",
   "metadata": {},
   "outputs": [],
   "source": []
  },
  {
   "cell_type": "code",
   "execution_count": null,
   "id": "e2397239",
   "metadata": {},
   "outputs": [],
   "source": []
  },
  {
   "cell_type": "code",
   "execution_count": null,
   "id": "305e34f2",
   "metadata": {},
   "outputs": [],
   "source": []
  },
  {
   "cell_type": "code",
   "execution_count": null,
   "id": "0c2caf08",
   "metadata": {},
   "outputs": [],
   "source": []
  },
  {
   "cell_type": "code",
   "execution_count": null,
   "id": "03457e8e",
   "metadata": {},
   "outputs": [],
   "source": []
  },
  {
   "cell_type": "code",
   "execution_count": null,
   "id": "cd2eaaa1",
   "metadata": {},
   "outputs": [],
   "source": []
  },
  {
   "cell_type": "code",
   "execution_count": null,
   "id": "61669639",
   "metadata": {},
   "outputs": [],
   "source": []
  },
  {
   "cell_type": "code",
   "execution_count": null,
   "id": "68c0b1f3",
   "metadata": {},
   "outputs": [],
   "source": []
  },
  {
   "cell_type": "code",
   "execution_count": null,
   "id": "ed3a34e1",
   "metadata": {},
   "outputs": [],
   "source": []
  }
 ],
 "metadata": {
  "kernelspec": {
   "display_name": "Python 3",
   "language": "python",
   "name": "python3"
  },
  "language_info": {
   "codemirror_mode": {
    "name": "ipython",
    "version": 3
   },
   "file_extension": ".py",
   "mimetype": "text/x-python",
   "name": "python",
   "nbconvert_exporter": "python",
   "pygments_lexer": "ipython3",
   "version": "3.10.4"
  },
  "vscode": {
   "interpreter": {
    "hash": "3ad933181bd8a04b432d3370b9dc3b0662ad032c4dfaa4e4f1596c548f763858"
   }
  }
 },
 "nbformat": 4,
 "nbformat_minor": 5
}
