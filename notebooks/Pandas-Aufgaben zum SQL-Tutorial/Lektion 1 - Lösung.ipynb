{
 "cells": [
  {
   "cell_type": "markdown",
   "id": "89c57fcc",
   "metadata": {},
   "source": [
    "## Übungen zur Lektion 1: Select mit der cia-Datenbank"
   ]
  },
  {
   "cell_type": "code",
   "execution_count": 2,
   "id": "c8ef1a53",
   "metadata": {},
   "outputs": [
    {
     "data": {
      "text/plain": [
       "235"
      ]
     },
     "execution_count": 2,
     "metadata": {},
     "output_type": "execute_result"
    }
   ],
   "source": [
    "import pandas as pd\n",
    "import sqlite3\n",
    "con = sqlite3.connect('../../data/cia.db')\n",
    "df = pd.read_sql(\"SELECT * FROM cia\", con)\n",
    "len(df)"
   ]
  },
  {
   "cell_type": "markdown",
   "id": "862c4ee0",
   "metadata": {},
   "source": [
    "## Aufgaben"
   ]
  },
  {
   "cell_type": "markdown",
   "id": "15486a9f",
   "metadata": {},
   "source": [
    "Aufgabe 1. Gib alle Daten der Tabelle 'cia' aus."
   ]
  },
  {
   "cell_type": "code",
   "execution_count": null,
   "id": "64ebd362",
   "metadata": {
    "scrolled": false
   },
   "outputs": [],
   "source": [
    "df"
   ]
  },
  {
   "cell_type": "markdown",
   "id": "6423c8ed",
   "metadata": {},
   "source": [
    "Aufgabe 2: Gib die Namen aller Länder aus."
   ]
  },
  {
   "cell_type": "code",
   "execution_count": 3,
   "id": "6b475471",
   "metadata": {},
   "outputs": [
    {
     "data": {
      "text/plain": [
       "0                     Afghanistan\n",
       "1                        Albanien\n",
       "2                        Algerien\n",
       "3      Amerikanische Samoa-Inseln\n",
       "4                         Andorra\n",
       "                  ...            \n",
       "230                     West Bank\n",
       "231              Westliche Sahara\n",
       "232                         Jemen\n",
       "233                        Zambia\n",
       "234                      Zimbabwe\n",
       "Name: Name, Length: 235, dtype: object"
      ]
     },
     "execution_count": 3,
     "metadata": {},
     "output_type": "execute_result"
    }
   ],
   "source": [
    "df['Name'] # ergibt eine Serie"
   ]
  },
  {
   "cell_type": "code",
   "execution_count": 4,
   "id": "9a274453",
   "metadata": {},
   "outputs": [
    {
     "data": {
      "text/html": [
       "<div>\n",
       "<style scoped>\n",
       "    .dataframe tbody tr th:only-of-type {\n",
       "        vertical-align: middle;\n",
       "    }\n",
       "\n",
       "    .dataframe tbody tr th {\n",
       "        vertical-align: top;\n",
       "    }\n",
       "\n",
       "    .dataframe thead th {\n",
       "        text-align: right;\n",
       "    }\n",
       "</style>\n",
       "<table border=\"1\" class=\"dataframe\">\n",
       "  <thead>\n",
       "    <tr style=\"text-align: right;\">\n",
       "      <th></th>\n",
       "      <th>Name</th>\n",
       "    </tr>\n",
       "  </thead>\n",
       "  <tbody>\n",
       "    <tr>\n",
       "      <th>0</th>\n",
       "      <td>Afghanistan</td>\n",
       "    </tr>\n",
       "    <tr>\n",
       "      <th>1</th>\n",
       "      <td>Albanien</td>\n",
       "    </tr>\n",
       "    <tr>\n",
       "      <th>2</th>\n",
       "      <td>Algerien</td>\n",
       "    </tr>\n",
       "    <tr>\n",
       "      <th>3</th>\n",
       "      <td>Amerikanische Samoa-Inseln</td>\n",
       "    </tr>\n",
       "    <tr>\n",
       "      <th>4</th>\n",
       "      <td>Andorra</td>\n",
       "    </tr>\n",
       "    <tr>\n",
       "      <th>...</th>\n",
       "      <td>...</td>\n",
       "    </tr>\n",
       "    <tr>\n",
       "      <th>230</th>\n",
       "      <td>West Bank</td>\n",
       "    </tr>\n",
       "    <tr>\n",
       "      <th>231</th>\n",
       "      <td>Westliche Sahara</td>\n",
       "    </tr>\n",
       "    <tr>\n",
       "      <th>232</th>\n",
       "      <td>Jemen</td>\n",
       "    </tr>\n",
       "    <tr>\n",
       "      <th>233</th>\n",
       "      <td>Zambia</td>\n",
       "    </tr>\n",
       "    <tr>\n",
       "      <th>234</th>\n",
       "      <td>Zimbabwe</td>\n",
       "    </tr>\n",
       "  </tbody>\n",
       "</table>\n",
       "<p>235 rows × 1 columns</p>\n",
       "</div>"
      ],
      "text/plain": [
       "                           Name\n",
       "0                   Afghanistan\n",
       "1                      Albanien\n",
       "2                      Algerien\n",
       "3    Amerikanische Samoa-Inseln\n",
       "4                       Andorra\n",
       "..                          ...\n",
       "230                   West Bank\n",
       "231            Westliche Sahara\n",
       "232                       Jemen\n",
       "233                      Zambia\n",
       "234                    Zimbabwe\n",
       "\n",
       "[235 rows x 1 columns]"
      ]
     },
     "execution_count": 4,
     "metadata": {},
     "output_type": "execute_result"
    }
   ],
   "source": [
    "df[['Name']] # ergibt ein DataFrame"
   ]
  },
  {
   "cell_type": "markdown",
   "id": "c21a05ea",
   "metadata": {},
   "source": [
    "Aufgabe 3: Gib alle Länder an, die mehr als 100 Millionen (1E08) Einwohner haben."
   ]
  },
  {
   "cell_type": "code",
   "execution_count": 5,
   "id": "15c2b5d8",
   "metadata": {},
   "outputs": [
    {
     "data": {
      "text/html": [
       "<div>\n",
       "<style scoped>\n",
       "    .dataframe tbody tr th:only-of-type {\n",
       "        vertical-align: middle;\n",
       "    }\n",
       "\n",
       "    .dataframe tbody tr th {\n",
       "        vertical-align: top;\n",
       "    }\n",
       "\n",
       "    .dataframe thead th {\n",
       "        text-align: right;\n",
       "    }\n",
       "</style>\n",
       "<table border=\"1\" class=\"dataframe\">\n",
       "  <thead>\n",
       "    <tr style=\"text-align: right;\">\n",
       "      <th></th>\n",
       "      <th>Name</th>\n",
       "      <th>Einwohner</th>\n",
       "    </tr>\n",
       "  </thead>\n",
       "  <tbody>\n",
       "    <tr>\n",
       "      <th>17</th>\n",
       "      <td>Bangladesh</td>\n",
       "      <td>1.291942e+08</td>\n",
       "    </tr>\n",
       "    <tr>\n",
       "      <th>28</th>\n",
       "      <td>Brasilien</td>\n",
       "      <td>1.728604e+08</td>\n",
       "    </tr>\n",
       "    <tr>\n",
       "      <th>43</th>\n",
       "      <td>China</td>\n",
       "      <td>1.261832e+09</td>\n",
       "    </tr>\n",
       "    <tr>\n",
       "      <th>98</th>\n",
       "      <td>Indien</td>\n",
       "      <td>1.014004e+09</td>\n",
       "    </tr>\n",
       "    <tr>\n",
       "      <th>99</th>\n",
       "      <td>Indonesien</td>\n",
       "      <td>2.247842e+08</td>\n",
       "    </tr>\n",
       "    <tr>\n",
       "      <th>106</th>\n",
       "      <td>Japan</td>\n",
       "      <td>1.265500e+08</td>\n",
       "    </tr>\n",
       "    <tr>\n",
       "      <th>139</th>\n",
       "      <td>Mexiko</td>\n",
       "      <td>1.003498e+08</td>\n",
       "    </tr>\n",
       "    <tr>\n",
       "      <th>156</th>\n",
       "      <td>Nigeria</td>\n",
       "      <td>1.233378e+08</td>\n",
       "    </tr>\n",
       "    <tr>\n",
       "      <th>162</th>\n",
       "      <td>Pakistan</td>\n",
       "      <td>1.415538e+08</td>\n",
       "    </tr>\n",
       "    <tr>\n",
       "      <th>175</th>\n",
       "      <td>Russland</td>\n",
       "      <td>1.460012e+08</td>\n",
       "    </tr>\n",
       "    <tr>\n",
       "      <th>222</th>\n",
       "      <td>Vereinigte Staaten von Amerika</td>\n",
       "      <td>2.755627e+08</td>\n",
       "    </tr>\n",
       "  </tbody>\n",
       "</table>\n",
       "</div>"
      ],
      "text/plain": [
       "                               Name     Einwohner\n",
       "17                       Bangladesh  1.291942e+08\n",
       "28                        Brasilien  1.728604e+08\n",
       "43                            China  1.261832e+09\n",
       "98                           Indien  1.014004e+09\n",
       "99                       Indonesien  2.247842e+08\n",
       "106                           Japan  1.265500e+08\n",
       "139                          Mexiko  1.003498e+08\n",
       "156                         Nigeria  1.233378e+08\n",
       "162                        Pakistan  1.415538e+08\n",
       "175                        Russland  1.460012e+08\n",
       "222  Vereinigte Staaten von Amerika  2.755627e+08"
      ]
     },
     "execution_count": 5,
     "metadata": {},
     "output_type": "execute_result"
    }
   ],
   "source": [
    "\n",
    "df[ df[\"Einwohner\"] > 100E6 ] [[\"Name\",\"Einwohner\"]] "
   ]
  },
  {
   "cell_type": "code",
   "execution_count": 6,
   "id": "dba9e251",
   "metadata": {},
   "outputs": [
    {
     "data": {
      "text/html": [
       "<div>\n",
       "<style scoped>\n",
       "    .dataframe tbody tr th:only-of-type {\n",
       "        vertical-align: middle;\n",
       "    }\n",
       "\n",
       "    .dataframe tbody tr th {\n",
       "        vertical-align: top;\n",
       "    }\n",
       "\n",
       "    .dataframe thead th {\n",
       "        text-align: right;\n",
       "    }\n",
       "</style>\n",
       "<table border=\"1\" class=\"dataframe\">\n",
       "  <thead>\n",
       "    <tr style=\"text-align: right;\">\n",
       "      <th></th>\n",
       "      <th>Land</th>\n",
       "      <th>Einwohner</th>\n",
       "    </tr>\n",
       "  </thead>\n",
       "  <tbody>\n",
       "    <tr>\n",
       "      <th>17</th>\n",
       "      <td>Bangladesh</td>\n",
       "      <td>1.291942e+08</td>\n",
       "    </tr>\n",
       "    <tr>\n",
       "      <th>28</th>\n",
       "      <td>Brasilien</td>\n",
       "      <td>1.728604e+08</td>\n",
       "    </tr>\n",
       "    <tr>\n",
       "      <th>43</th>\n",
       "      <td>China</td>\n",
       "      <td>1.261832e+09</td>\n",
       "    </tr>\n",
       "    <tr>\n",
       "      <th>98</th>\n",
       "      <td>Indien</td>\n",
       "      <td>1.014004e+09</td>\n",
       "    </tr>\n",
       "    <tr>\n",
       "      <th>99</th>\n",
       "      <td>Indonesien</td>\n",
       "      <td>2.247842e+08</td>\n",
       "    </tr>\n",
       "    <tr>\n",
       "      <th>106</th>\n",
       "      <td>Japan</td>\n",
       "      <td>1.265500e+08</td>\n",
       "    </tr>\n",
       "    <tr>\n",
       "      <th>139</th>\n",
       "      <td>Mexiko</td>\n",
       "      <td>1.003498e+08</td>\n",
       "    </tr>\n",
       "    <tr>\n",
       "      <th>156</th>\n",
       "      <td>Nigeria</td>\n",
       "      <td>1.233378e+08</td>\n",
       "    </tr>\n",
       "    <tr>\n",
       "      <th>162</th>\n",
       "      <td>Pakistan</td>\n",
       "      <td>1.415538e+08</td>\n",
       "    </tr>\n",
       "    <tr>\n",
       "      <th>175</th>\n",
       "      <td>Russland</td>\n",
       "      <td>1.460012e+08</td>\n",
       "    </tr>\n",
       "    <tr>\n",
       "      <th>222</th>\n",
       "      <td>Vereinigte Staaten von Amerika</td>\n",
       "      <td>2.755627e+08</td>\n",
       "    </tr>\n",
       "  </tbody>\n",
       "</table>\n",
       "</div>"
      ],
      "text/plain": [
       "                               Land     Einwohner\n",
       "17                       Bangladesh  1.291942e+08\n",
       "28                        Brasilien  1.728604e+08\n",
       "43                            China  1.261832e+09\n",
       "98                           Indien  1.014004e+09\n",
       "99                       Indonesien  2.247842e+08\n",
       "106                           Japan  1.265500e+08\n",
       "139                          Mexiko  1.003498e+08\n",
       "156                         Nigeria  1.233378e+08\n",
       "162                        Pakistan  1.415538e+08\n",
       "175                        Russland  1.460012e+08\n",
       "222  Vereinigte Staaten von Amerika  2.755627e+08"
      ]
     },
     "execution_count": 6,
     "metadata": {},
     "output_type": "execute_result"
    }
   ],
   "source": [
    "df2 = df[['Name','Einwohner']][ df['Einwohner'] > 1E8 ]\n",
    "df2.rename(columns={'Name': 'Land'}, inplace=True)  # Spalten umbenennen\n",
    "df2"
   ]
  },
  {
   "cell_type": "code",
   "execution_count": 8,
   "id": "5d771221",
   "metadata": {},
   "outputs": [
    {
     "name": "stderr",
     "output_type": "stream",
     "text": [
      "/tmp/ipykernel_12974/2169991184.py:2: SettingWithCopyWarning: \n",
      "A value is trying to be set on a copy of a slice from a DataFrame.\n",
      "Try using .loc[row_indexer,col_indexer] = value instead\n",
      "\n",
      "See the caveats in the documentation: https://pandas.pydata.org/pandas-docs/stable/user_guide/indexing.html#returning-a-view-versus-a-copy\n",
      "  df2[\"Einwohner in Mio\"] = (df2[\"Einwohner\"]/1E6).round(2)\n"
     ]
    },
    {
     "data": {
      "text/html": [
       "<div>\n",
       "<style scoped>\n",
       "    .dataframe tbody tr th:only-of-type {\n",
       "        vertical-align: middle;\n",
       "    }\n",
       "\n",
       "    .dataframe tbody tr th {\n",
       "        vertical-align: top;\n",
       "    }\n",
       "\n",
       "    .dataframe thead th {\n",
       "        text-align: right;\n",
       "    }\n",
       "</style>\n",
       "<table border=\"1\" class=\"dataframe\">\n",
       "  <thead>\n",
       "    <tr style=\"text-align: right;\">\n",
       "      <th></th>\n",
       "      <th>Name</th>\n",
       "      <th>Einwohner in Mio</th>\n",
       "    </tr>\n",
       "  </thead>\n",
       "  <tbody>\n",
       "    <tr>\n",
       "      <th>17</th>\n",
       "      <td>Bangladesh</td>\n",
       "      <td>129.19</td>\n",
       "    </tr>\n",
       "    <tr>\n",
       "      <th>28</th>\n",
       "      <td>Brasilien</td>\n",
       "      <td>172.86</td>\n",
       "    </tr>\n",
       "    <tr>\n",
       "      <th>43</th>\n",
       "      <td>China</td>\n",
       "      <td>1261.83</td>\n",
       "    </tr>\n",
       "    <tr>\n",
       "      <th>98</th>\n",
       "      <td>Indien</td>\n",
       "      <td>1014.00</td>\n",
       "    </tr>\n",
       "    <tr>\n",
       "      <th>99</th>\n",
       "      <td>Indonesien</td>\n",
       "      <td>224.78</td>\n",
       "    </tr>\n",
       "    <tr>\n",
       "      <th>106</th>\n",
       "      <td>Japan</td>\n",
       "      <td>126.55</td>\n",
       "    </tr>\n",
       "    <tr>\n",
       "      <th>139</th>\n",
       "      <td>Mexiko</td>\n",
       "      <td>100.35</td>\n",
       "    </tr>\n",
       "    <tr>\n",
       "      <th>156</th>\n",
       "      <td>Nigeria</td>\n",
       "      <td>123.34</td>\n",
       "    </tr>\n",
       "    <tr>\n",
       "      <th>162</th>\n",
       "      <td>Pakistan</td>\n",
       "      <td>141.55</td>\n",
       "    </tr>\n",
       "    <tr>\n",
       "      <th>175</th>\n",
       "      <td>Russland</td>\n",
       "      <td>146.00</td>\n",
       "    </tr>\n",
       "    <tr>\n",
       "      <th>222</th>\n",
       "      <td>Vereinigte Staaten von Amerika</td>\n",
       "      <td>275.56</td>\n",
       "    </tr>\n",
       "  </tbody>\n",
       "</table>\n",
       "</div>"
      ],
      "text/plain": [
       "                               Name  Einwohner in Mio\n",
       "17                       Bangladesh            129.19\n",
       "28                        Brasilien            172.86\n",
       "43                            China           1261.83\n",
       "98                           Indien           1014.00\n",
       "99                       Indonesien            224.78\n",
       "106                           Japan            126.55\n",
       "139                          Mexiko            100.35\n",
       "156                         Nigeria            123.34\n",
       "162                        Pakistan            141.55\n",
       "175                        Russland            146.00\n",
       "222  Vereinigte Staaten von Amerika            275.56"
      ]
     },
     "execution_count": 8,
     "metadata": {},
     "output_type": "execute_result"
    }
   ],
   "source": [
    "df2 = df[['Name','Einwohner']]\n",
    "df2[\"Einwohner in Mio\"] = (df2[\"Einwohner\"]/1E6).round(2)\n",
    "df2[[\"Name\",\"Einwohner in Mio\"]] [df2[\"Einwohner in Mio\"] > 100]"
   ]
  },
  {
   "cell_type": "markdown",
   "id": "eea30faa",
   "metadata": {},
   "source": [
    "Aufgabe 4: Gib die Länder an, die ein Bruttosozialprodukt (BIP) zwischen 1 und 100 Milliarden haben und in Asien liegen."
   ]
  },
  {
   "cell_type": "code",
   "execution_count": 11,
   "id": "e0a9b7b4",
   "metadata": {},
   "outputs": [
    {
     "data": {
      "text/plain": [
       "0         Afghanistan\n",
       "1            Albanien\n",
       "4             Andorra\n",
       "5              Angola\n",
       "10           Armenien\n",
       "            ...      \n",
       "228    Virgin Islands\n",
       "230         West Bank\n",
       "232             Jemen\n",
       "233            Zambia\n",
       "234          Zimbabwe\n",
       "Name: Name, Length: 130, dtype: object"
      ]
     },
     "execution_count": 11,
     "metadata": {},
     "output_type": "execute_result"
    }
   ],
   "source": [
    "df['Name'][ df['BIP'].between(1E9,100E9) ]"
   ]
  },
  {
   "cell_type": "markdown",
   "id": "e3307f32",
   "metadata": {},
   "source": [
    "Aufgabe 5: Gib die Einwohnerzahlen für Frankreich, Deutschland und Polen aus."
   ]
  },
  {
   "cell_type": "code",
   "execution_count": 20,
   "id": "9e57668d",
   "metadata": {},
   "outputs": [
    {
     "data": {
      "text/html": [
       "<div>\n",
       "<style scoped>\n",
       "    .dataframe tbody tr th:only-of-type {\n",
       "        vertical-align: middle;\n",
       "    }\n",
       "\n",
       "    .dataframe tbody tr th {\n",
       "        vertical-align: top;\n",
       "    }\n",
       "\n",
       "    .dataframe thead th {\n",
       "        text-align: right;\n",
       "    }\n",
       "</style>\n",
       "<table border=\"1\" class=\"dataframe\">\n",
       "  <thead>\n",
       "    <tr style=\"text-align: right;\">\n",
       "      <th></th>\n",
       "      <th>Name</th>\n",
       "      <th>Einwohner</th>\n",
       "    </tr>\n",
       "  </thead>\n",
       "  <tbody>\n",
       "    <tr>\n",
       "      <th>72</th>\n",
       "      <td>Frankreich</td>\n",
       "      <td>59329691.0</td>\n",
       "    </tr>\n",
       "    <tr>\n",
       "      <th>79</th>\n",
       "      <td>Deutschland</td>\n",
       "      <td>82797408.0</td>\n",
       "    </tr>\n",
       "    <tr>\n",
       "      <th>170</th>\n",
       "      <td>Polen</td>\n",
       "      <td>38646023.0</td>\n",
       "    </tr>\n",
       "  </tbody>\n",
       "</table>\n",
       "</div>"
      ],
      "text/plain": [
       "            Name   Einwohner\n",
       "72    Frankreich  59329691.0\n",
       "79   Deutschland  82797408.0\n",
       "170        Polen  38646023.0"
      ]
     },
     "execution_count": 20,
     "metadata": {},
     "output_type": "execute_result"
    }
   ],
   "source": [
    "df[['Name','Einwohner']][ df['Name'].str.contains('Frankreich|Deutschland|Polen', regex=True) ]"
   ]
  },
  {
   "cell_type": "markdown",
   "id": "71cb8274",
   "metadata": {},
   "source": [
    "Aufgabe 6. Zeige Name und Einwohnerzahl in Millionen für die Länder Südamerikas."
   ]
  },
  {
   "cell_type": "code",
   "execution_count": 59,
   "id": "f19f5a51",
   "metadata": {},
   "outputs": [
    {
     "data": {
      "text/html": [
       "<div>\n",
       "<style scoped>\n",
       "    .dataframe tbody tr th:only-of-type {\n",
       "        vertical-align: middle;\n",
       "    }\n",
       "\n",
       "    .dataframe tbody tr th {\n",
       "        vertical-align: top;\n",
       "    }\n",
       "\n",
       "    .dataframe thead th {\n",
       "        text-align: right;\n",
       "    }\n",
       "</style>\n",
       "<table border=\"1\" class=\"dataframe\">\n",
       "  <thead>\n",
       "    <tr style=\"text-align: right;\">\n",
       "      <th></th>\n",
       "      <th>Name</th>\n",
       "      <th>Einwohner in Mio</th>\n",
       "    </tr>\n",
       "  </thead>\n",
       "  <tbody>\n",
       "    <tr>\n",
       "      <th>9</th>\n",
       "      <td>Argentinien</td>\n",
       "      <td>36.96</td>\n",
       "    </tr>\n",
       "    <tr>\n",
       "      <th>25</th>\n",
       "      <td>Bolivien</td>\n",
       "      <td>8.15</td>\n",
       "    </tr>\n",
       "    <tr>\n",
       "      <th>28</th>\n",
       "      <td>Brasilien</td>\n",
       "      <td>172.86</td>\n",
       "    </tr>\n",
       "    <tr>\n",
       "      <th>42</th>\n",
       "      <td>Chile</td>\n",
       "      <td>15.15</td>\n",
       "    </tr>\n",
       "    <tr>\n",
       "      <th>46</th>\n",
       "      <td>Kolumbien</td>\n",
       "      <td>39.69</td>\n",
       "    </tr>\n",
       "    <tr>\n",
       "      <th>61</th>\n",
       "      <td>Ecuador</td>\n",
       "      <td>12.92</td>\n",
       "    </tr>\n",
       "    <tr>\n",
       "      <th>68</th>\n",
       "      <td>Falkland Islands (Islas Malvinas)</td>\n",
       "      <td>0.00</td>\n",
       "    </tr>\n",
       "    <tr>\n",
       "      <th>73</th>\n",
       "      <td>Französisch-Guayana</td>\n",
       "      <td>0.17</td>\n",
       "    </tr>\n",
       "    <tr>\n",
       "      <th>91</th>\n",
       "      <td>Guyana</td>\n",
       "      <td>0.70</td>\n",
       "    </tr>\n",
       "    <tr>\n",
       "      <th>166</th>\n",
       "      <td>Paraguay</td>\n",
       "      <td>5.59</td>\n",
       "    </tr>\n",
       "    <tr>\n",
       "      <th>167</th>\n",
       "      <td>Peru</td>\n",
       "      <td>27.01</td>\n",
       "    </tr>\n",
       "    <tr>\n",
       "      <th>199</th>\n",
       "      <td>Suriname</td>\n",
       "      <td>0.43</td>\n",
       "    </tr>\n",
       "    <tr>\n",
       "      <th>223</th>\n",
       "      <td>Uruguay</td>\n",
       "      <td>3.33</td>\n",
       "    </tr>\n",
       "    <tr>\n",
       "      <th>226</th>\n",
       "      <td>Venezuela</td>\n",
       "      <td>23.54</td>\n",
       "    </tr>\n",
       "  </tbody>\n",
       "</table>\n",
       "</div>"
      ],
      "text/plain": [
       "                                  Name  Einwohner in Mio\n",
       "9                          Argentinien             36.96\n",
       "25                            Bolivien              8.15\n",
       "28                           Brasilien            172.86\n",
       "42                               Chile             15.15\n",
       "46                           Kolumbien             39.69\n",
       "61                             Ecuador             12.92\n",
       "68   Falkland Islands (Islas Malvinas)              0.00\n",
       "73                 Französisch-Guayana              0.17\n",
       "91                              Guyana              0.70\n",
       "166                           Paraguay              5.59\n",
       "167                               Peru             27.01\n",
       "199                           Suriname              0.43\n",
       "223                            Uruguay              3.33\n",
       "226                          Venezuela             23.54"
      ]
     },
     "execution_count": 59,
     "metadata": {},
     "output_type": "execute_result"
    }
   ],
   "source": [
    "df['Einwohner in Mio'] = (df['Einwohner']/1E6).round(2) # neue Spalte wird erzeugt\n",
    "df[['Name', 'Einwohner in Mio']] [ df['Region'] == 'Südamerika' ]"
   ]
  },
  {
   "cell_type": "markdown",
   "id": "b8427a80",
   "metadata": {},
   "source": [
    "Aufgabe 7. Gib die Namen und das pro Kopf-Jahreseinkommen der Länder mit mehr als 200 Millionen Einwohnern aus."
   ]
  },
  {
   "cell_type": "code",
   "execution_count": 60,
   "id": "49fc2c71",
   "metadata": {},
   "outputs": [
    {
     "data": {
      "text/html": [
       "<div>\n",
       "<style scoped>\n",
       "    .dataframe tbody tr th:only-of-type {\n",
       "        vertical-align: middle;\n",
       "    }\n",
       "\n",
       "    .dataframe tbody tr th {\n",
       "        vertical-align: top;\n",
       "    }\n",
       "\n",
       "    .dataframe thead th {\n",
       "        text-align: right;\n",
       "    }\n",
       "</style>\n",
       "<table border=\"1\" class=\"dataframe\">\n",
       "  <thead>\n",
       "    <tr style=\"text-align: right;\">\n",
       "      <th></th>\n",
       "      <th>Name</th>\n",
       "      <th>pro Kopf-Jahreseinkommen</th>\n",
       "    </tr>\n",
       "  </thead>\n",
       "  <tbody>\n",
       "    <tr>\n",
       "      <th>43</th>\n",
       "      <td>China</td>\n",
       "      <td>3803.99</td>\n",
       "    </tr>\n",
       "    <tr>\n",
       "      <th>98</th>\n",
       "      <td>Indien</td>\n",
       "      <td>1780.07</td>\n",
       "    </tr>\n",
       "    <tr>\n",
       "      <th>99</th>\n",
       "      <td>Indonesien</td>\n",
       "      <td>2713.71</td>\n",
       "    </tr>\n",
       "    <tr>\n",
       "      <th>222</th>\n",
       "      <td>Vereinigte Staaten von Amerika</td>\n",
       "      <td>33585.83</td>\n",
       "    </tr>\n",
       "  </tbody>\n",
       "</table>\n",
       "</div>"
      ],
      "text/plain": [
       "                               Name  pro Kopf-Jahreseinkommen\n",
       "43                            China                   3803.99\n",
       "98                           Indien                   1780.07\n",
       "99                       Indonesien                   2713.71\n",
       "222  Vereinigte Staaten von Amerika                  33585.83"
      ]
     },
     "execution_count": 60,
     "metadata": {},
     "output_type": "execute_result"
    }
   ],
   "source": [
    "df['pro Kopf-Jahreseinkommen'] = (df['BIP']/df['Einwohner']).round(2) # neue Spalte erzeugt\n",
    "df[['Name','pro Kopf-Jahreseinkommen']] [ df['Einwohner'] > 200E6 ]"
   ]
  },
  {
   "cell_type": "markdown",
   "id": "a85720fa",
   "metadata": {},
   "source": [
    "Aufgabe 8. Wie vorherige Aufgabe, allerdings sollen die Ergebnisse absteigend nach dem pro Kopf Jahreseinkommen sortiert werden."
   ]
  },
  {
   "cell_type": "code",
   "execution_count": 61,
   "id": "ebbb70ca",
   "metadata": {},
   "outputs": [
    {
     "data": {
      "text/html": [
       "<div>\n",
       "<style scoped>\n",
       "    .dataframe tbody tr th:only-of-type {\n",
       "        vertical-align: middle;\n",
       "    }\n",
       "\n",
       "    .dataframe tbody tr th {\n",
       "        vertical-align: top;\n",
       "    }\n",
       "\n",
       "    .dataframe thead th {\n",
       "        text-align: right;\n",
       "    }\n",
       "</style>\n",
       "<table border=\"1\" class=\"dataframe\">\n",
       "  <thead>\n",
       "    <tr style=\"text-align: right;\">\n",
       "      <th></th>\n",
       "      <th>Name</th>\n",
       "      <th>pro Kopf-Jahreseinkommen</th>\n",
       "    </tr>\n",
       "  </thead>\n",
       "  <tbody>\n",
       "    <tr>\n",
       "      <th>98</th>\n",
       "      <td>Indien</td>\n",
       "      <td>1780.07</td>\n",
       "    </tr>\n",
       "    <tr>\n",
       "      <th>99</th>\n",
       "      <td>Indonesien</td>\n",
       "      <td>2713.71</td>\n",
       "    </tr>\n",
       "    <tr>\n",
       "      <th>43</th>\n",
       "      <td>China</td>\n",
       "      <td>3803.99</td>\n",
       "    </tr>\n",
       "    <tr>\n",
       "      <th>222</th>\n",
       "      <td>Vereinigte Staaten von Amerika</td>\n",
       "      <td>33585.83</td>\n",
       "    </tr>\n",
       "  </tbody>\n",
       "</table>\n",
       "</div>"
      ],
      "text/plain": [
       "                               Name  pro Kopf-Jahreseinkommen\n",
       "98                           Indien                   1780.07\n",
       "99                       Indonesien                   2713.71\n",
       "43                            China                   3803.99\n",
       "222  Vereinigte Staaten von Amerika                  33585.83"
      ]
     },
     "execution_count": 61,
     "metadata": {},
     "output_type": "execute_result"
    }
   ],
   "source": [
    "df[['Name','pro Kopf-Jahreseinkommen']] [ df['Einwohner'] > 200E6 ].sort_values(by='pro Kopf-Jahreseinkommen')"
   ]
  },
  {
   "cell_type": "markdown",
   "id": "3f2c4637",
   "metadata": {},
   "source": [
    "Aufgabe 9. In welchen Ländernamen kommt das Wort 'Vereinigte' vor?"
   ]
  },
  {
   "cell_type": "code",
   "execution_count": 63,
   "id": "bc1245e1",
   "metadata": {},
   "outputs": [
    {
     "data": {
      "text/html": [
       "<div>\n",
       "<style scoped>\n",
       "    .dataframe tbody tr th:only-of-type {\n",
       "        vertical-align: middle;\n",
       "    }\n",
       "\n",
       "    .dataframe tbody tr th {\n",
       "        vertical-align: top;\n",
       "    }\n",
       "\n",
       "    .dataframe thead th {\n",
       "        text-align: right;\n",
       "    }\n",
       "</style>\n",
       "<table border=\"1\" class=\"dataframe\">\n",
       "  <thead>\n",
       "    <tr style=\"text-align: right;\">\n",
       "      <th></th>\n",
       "      <th>LID</th>\n",
       "      <th>Name</th>\n",
       "      <th>Region</th>\n",
       "      <th>Flaeche</th>\n",
       "      <th>Einwohner</th>\n",
       "      <th>BIP</th>\n",
       "      <th>Einwohner in Mio</th>\n",
       "      <th>pro Kopf-Jahreseinkommen</th>\n",
       "    </tr>\n",
       "  </thead>\n",
       "  <tbody>\n",
       "    <tr>\n",
       "      <th>220</th>\n",
       "      <td>221</td>\n",
       "      <td>Vereinigte Arabische Emirate</td>\n",
       "      <td>Mittlerer Osten</td>\n",
       "      <td>82880</td>\n",
       "      <td>2369153.0</td>\n",
       "      <td>4.150000e+10</td>\n",
       "      <td>2.37</td>\n",
       "      <td>17516.81</td>\n",
       "    </tr>\n",
       "    <tr>\n",
       "      <th>222</th>\n",
       "      <td>223</td>\n",
       "      <td>Vereinigte Staaten von Amerika</td>\n",
       "      <td>Nordamerika</td>\n",
       "      <td>9629091</td>\n",
       "      <td>275562673.0</td>\n",
       "      <td>9.255000e+12</td>\n",
       "      <td>275.56</td>\n",
       "      <td>33585.83</td>\n",
       "    </tr>\n",
       "  </tbody>\n",
       "</table>\n",
       "</div>"
      ],
      "text/plain": [
       "     LID                            Name           Region  Flaeche  \\\n",
       "220  221    Vereinigte Arabische Emirate  Mittlerer Osten    82880   \n",
       "222  223  Vereinigte Staaten von Amerika      Nordamerika  9629091   \n",
       "\n",
       "       Einwohner           BIP  Einwohner in Mio  pro Kopf-Jahreseinkommen  \n",
       "220    2369153.0  4.150000e+10              2.37                  17516.81  \n",
       "222  275562673.0  9.255000e+12            275.56                  33585.83  "
      ]
     },
     "execution_count": 63,
     "metadata": {},
     "output_type": "execute_result"
    }
   ],
   "source": [
    "df[ df['Name'].str.contains(\"Vereinigte\", regex=True) ]"
   ]
  },
  {
   "cell_type": "markdown",
   "id": "2b2b5d46",
   "metadata": {},
   "source": [
    "Aufgabe 10. Lasse Dir in alphabetischer Reihenfolge alle verschiedenen Regionen anzeigen."
   ]
  },
  {
   "cell_type": "code",
   "execution_count": null,
   "id": "91480a18",
   "metadata": {},
   "outputs": [],
   "source": [
    "df1 = df['Region']\n",
    "df2 = pd.unique(df1)\n",
    "df2.sort()\n",
    "df2"
   ]
  },
  {
   "cell_type": "markdown",
   "id": "b0d6fe46",
   "metadata": {},
   "source": [
    "Aufgabe 11. Zeige alle Länder, bei denen das Bruttoinlandsprodukt unbekannt ist."
   ]
  },
  {
   "cell_type": "code",
   "execution_count": null,
   "id": "77feabac",
   "metadata": {},
   "outputs": [],
   "source": [
    "df[['Name', 'BIP']]"
   ]
  },
  {
   "cell_type": "code",
   "execution_count": null,
   "id": "0686a840",
   "metadata": {},
   "outputs": [],
   "source": []
  },
  {
   "cell_type": "code",
   "execution_count": null,
   "id": "d8870f21",
   "metadata": {},
   "outputs": [],
   "source": []
  }
 ],
 "metadata": {
  "kernelspec": {
   "display_name": "Python 3",
   "language": "python",
   "name": "python3"
  },
  "language_info": {
   "codemirror_mode": {
    "name": "ipython",
    "version": 3
   },
   "file_extension": ".py",
   "mimetype": "text/x-python",
   "name": "python",
   "nbconvert_exporter": "python",
   "pygments_lexer": "ipython3",
   "version": "3.10.4"
  },
  "vscode": {
   "interpreter": {
    "hash": "3ad933181bd8a04b432d3370b9dc3b0662ad032c4dfaa4e4f1596c548f763858"
   }
  }
 },
 "nbformat": 4,
 "nbformat_minor": 5
}
