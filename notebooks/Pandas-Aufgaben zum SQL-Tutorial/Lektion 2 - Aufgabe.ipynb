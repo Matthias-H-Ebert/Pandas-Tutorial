{
 "cells": [
  {
   "cell_type": "markdown",
   "id": "89c57fcc",
   "metadata": {},
   "source": [
    "## Übungen zur Lektion 2: Aggregatfunktionen mit der cia-Datenbank"
   ]
  },
  {
   "cell_type": "code",
   "execution_count": 2,
   "id": "c8ef1a53",
   "metadata": {},
   "outputs": [
    {
     "data": {
      "text/plain": [
       "235"
      ]
     },
     "execution_count": 2,
     "metadata": {},
     "output_type": "execute_result"
    }
   ],
   "source": [
    "import pandas as pd\n",
    "import sqlite3\n",
    "con = sqlite3.connect('../../data/cia.db')\n",
    "df = pd.read_sql(\"SELECT * FROM cia\", con)\n",
    "len(df)"
   ]
  },
  {
   "cell_type": "markdown",
   "id": "862c4ee0",
   "metadata": {},
   "source": [
    "## Aufgaben"
   ]
  },
  {
   "cell_type": "markdown",
   "id": "3470295f",
   "metadata": {},
   "source": [
    "Aufgabe 1\n",
    "Wie viele Länder enthält die cia-Datenbank?\n",
    " "
   ]
  },
  {
   "cell_type": "code",
   "execution_count": 4,
   "id": "6cb49000",
   "metadata": {
    "scrolled": true
   },
   "outputs": [
    {
     "data": {
      "text/plain": [
       "Name    234\n",
       "dtype: int64"
      ]
     },
     "execution_count": 4,
     "metadata": {},
     "output_type": "execute_result"
    }
   ],
   "source": [
    "df[[\"Name\"]].nunique()"
   ]
  },
  {
   "cell_type": "code",
   "execution_count": 5,
   "id": "a1f7896c",
   "metadata": {},
   "outputs": [
    {
     "data": {
      "text/plain": [
       "LID          235\n",
       "Name         235\n",
       "Region       235\n",
       "Flaeche      235\n",
       "Einwohner    234\n",
       "BIP          225\n",
       "dtype: int64"
      ]
     },
     "execution_count": 5,
     "metadata": {},
     "output_type": "execute_result"
    }
   ],
   "source": [
    "df.count()"
   ]
  },
  {
   "cell_type": "code",
   "execution_count": 7,
   "id": "c5ca24c5",
   "metadata": {},
   "outputs": [
    {
     "data": {
      "text/plain": [
       "LID          235\n",
       "Name         234\n",
       "Region        13\n",
       "Flaeche      232\n",
       "Einwohner    234\n",
       "BIP          205\n",
       "dtype: int64"
      ]
     },
     "execution_count": 7,
     "metadata": {},
     "output_type": "execute_result"
    }
   ],
   "source": [
    "df.nunique()"
   ]
  },
  {
   "cell_type": "markdown",
   "id": "a7a3275c",
   "metadata": {},
   "source": [
    "Aufgabe 2\n",
    "Ermittle die Weltbevölkerung.\n",
    " "
   ]
  },
  {
   "cell_type": "code",
   "execution_count": 11,
   "id": "df7a2398",
   "metadata": {},
   "outputs": [
    {
     "data": {
      "text/plain": [
       "Einwohner in Mrd    6.03\n",
       "dtype: float64"
      ]
     },
     "execution_count": 11,
     "metadata": {},
     "output_type": "execute_result"
    }
   ],
   "source": [
    "df[\"Einwohner in Mrd\"] = (df[\"Einwohner\"]/1E09).round(2)\n",
    "df[[\"Einwohner in Mrd\"]].sum()"
   ]
  },
  {
   "cell_type": "markdown",
   "id": "356ed7b4",
   "metadata": {},
   "source": [
    "Aufgabe 3\n",
    "Gib das Durchschnitts-Bruttoinlandsprodukt an.\n",
    " "
   ]
  },
  {
   "cell_type": "code",
   "execution_count": 19,
   "id": "1fbcb3e7",
   "metadata": {},
   "outputs": [
    {
     "data": {
      "text/plain": [
       "177986757333.35556"
      ]
     },
     "execution_count": 19,
     "metadata": {},
     "output_type": "execute_result"
    }
   ],
   "source": [
    "df.BIP.mean() ## enspricht avg"
   ]
  },
  {
   "cell_type": "markdown",
   "id": "64af4654",
   "metadata": {},
   "source": [
    "Aufgabe 4\n",
    "Wie groß sind Bevölkerung und Bruttoinlandsprodukt für ganz Europa?\n",
    " "
   ]
  },
  {
   "cell_type": "code",
   "execution_count": 15,
   "id": "796ad71f",
   "metadata": {},
   "outputs": [
    {
     "data": {
      "text/plain": [
       "(584426608.0, 9516350000005.0)"
      ]
     },
     "execution_count": 15,
     "metadata": {},
     "output_type": "execute_result"
    }
   ],
   "source": [
    "x = df.loc[df[\"Region\"]==\"Europa\",\"Einwohner\"].sum()\n",
    "y = df.loc[df[\"Region\"]==\"Europa\",\"BIP\"].sum()\n",
    "x,y"
   ]
  },
  {
   "cell_type": "markdown",
   "id": "3f066ca1",
   "metadata": {},
   "source": [
    "Aufgabe 5\n",
    "Ermittle die Flächen des kleinsten und größten Landes.\n",
    " "
   ]
  },
  {
   "cell_type": "code",
   "execution_count": 18,
   "id": "91c75991",
   "metadata": {},
   "outputs": [
    {
     "data": {
      "text/html": [
       "<div>\n",
       "<style scoped>\n",
       "    .dataframe tbody tr th:only-of-type {\n",
       "        vertical-align: middle;\n",
       "    }\n",
       "\n",
       "    .dataframe tbody tr th {\n",
       "        vertical-align: top;\n",
       "    }\n",
       "\n",
       "    .dataframe thead th {\n",
       "        text-align: right;\n",
       "    }\n",
       "</style>\n",
       "<table border=\"1\" class=\"dataframe\">\n",
       "  <thead>\n",
       "    <tr style=\"text-align: right;\">\n",
       "      <th></th>\n",
       "      <th>Name</th>\n",
       "      <th>Flaeche</th>\n",
       "    </tr>\n",
       "  </thead>\n",
       "  <tbody>\n",
       "    <tr>\n",
       "      <th>93</th>\n",
       "      <td>Vatikan Stadt</td>\n",
       "      <td>0</td>\n",
       "    </tr>\n",
       "    <tr>\n",
       "      <th>175</th>\n",
       "      <td>Russland</td>\n",
       "      <td>17075200</td>\n",
       "    </tr>\n",
       "  </tbody>\n",
       "</table>\n",
       "</div>"
      ],
      "text/plain": [
       "              Name   Flaeche\n",
       "93   Vatikan Stadt         0\n",
       "175       Russland  17075200"
      ]
     },
     "execution_count": 18,
     "metadata": {},
     "output_type": "execute_result"
    }
   ],
   "source": [
    "df[[\"Name\",\"Flaeche\"]]  [(df.Flaeche==df.Flaeche.min())| (df.Flaeche==df.Flaeche.max())]"
   ]
  },
  {
   "cell_type": "markdown",
   "id": "40e011bf",
   "metadata": {},
   "source": [
    "Aufgabe 6\n",
    "Wie viele Regionen gibt es?"
   ]
  },
  {
   "cell_type": "code",
   "execution_count": 3,
   "id": "b8ab2cb3",
   "metadata": {},
   "outputs": [
    {
     "data": {
      "text/plain": [
       "0      False\n",
       "1       True\n",
       "2      False\n",
       "3      False\n",
       "4       True\n",
       "       ...  \n",
       "230    False\n",
       "231    False\n",
       "232    False\n",
       "233    False\n",
       "234    False\n",
       "Name: Region, Length: 235, dtype: bool"
      ]
     },
     "execution_count": 3,
     "metadata": {},
     "output_type": "execute_result"
    }
   ],
   "source": [
    "df[\"Region\"]==\"Europa\""
   ]
  },
  {
   "cell_type": "code",
   "execution_count": 3,
   "id": "515c4b81",
   "metadata": {},
   "outputs": [
    {
     "data": {
      "text/html": [
       "<div>\n",
       "<style scoped>\n",
       "    .dataframe tbody tr th:only-of-type {\n",
       "        vertical-align: middle;\n",
       "    }\n",
       "\n",
       "    .dataframe tbody tr th {\n",
       "        vertical-align: top;\n",
       "    }\n",
       "\n",
       "    .dataframe thead th {\n",
       "        text-align: right;\n",
       "    }\n",
       "</style>\n",
       "<table border=\"1\" class=\"dataframe\">\n",
       "  <thead>\n",
       "    <tr style=\"text-align: right;\">\n",
       "      <th></th>\n",
       "      <th>LID</th>\n",
       "      <th>Name</th>\n",
       "      <th>Region</th>\n",
       "      <th>Flaeche</th>\n",
       "      <th>Einwohner</th>\n",
       "      <th>BIP</th>\n",
       "    </tr>\n",
       "  </thead>\n",
       "  <tbody>\n",
       "    <tr>\n",
       "      <th>0</th>\n",
       "      <td>1</td>\n",
       "      <td>Afghanistan</td>\n",
       "      <td>Asien</td>\n",
       "      <td>652000</td>\n",
       "      <td>25838797.0</td>\n",
       "      <td>2.100000e+10</td>\n",
       "    </tr>\n",
       "    <tr>\n",
       "      <th>1</th>\n",
       "      <td>2</td>\n",
       "      <td>Albanien</td>\n",
       "      <td>Europa</td>\n",
       "      <td>28748</td>\n",
       "      <td>3490435.0</td>\n",
       "      <td>5.600000e+09</td>\n",
       "    </tr>\n",
       "    <tr>\n",
       "      <th>2</th>\n",
       "      <td>3</td>\n",
       "      <td>Algerien</td>\n",
       "      <td>Afrika</td>\n",
       "      <td>2381740</td>\n",
       "      <td>31193917.0</td>\n",
       "      <td>1.476000e+11</td>\n",
       "    </tr>\n",
       "    <tr>\n",
       "      <th>3</th>\n",
       "      <td>4</td>\n",
       "      <td>Amerikanische Samoa-Inseln</td>\n",
       "      <td>Ozeanien</td>\n",
       "      <td>199</td>\n",
       "      <td>65446.0</td>\n",
       "      <td>1.500000e+08</td>\n",
       "    </tr>\n",
       "    <tr>\n",
       "      <th>4</th>\n",
       "      <td>5</td>\n",
       "      <td>Andorra</td>\n",
       "      <td>Europa</td>\n",
       "      <td>468</td>\n",
       "      <td>66824.0</td>\n",
       "      <td>1.200000e+09</td>\n",
       "    </tr>\n",
       "    <tr>\n",
       "      <th>...</th>\n",
       "      <td>...</td>\n",
       "      <td>...</td>\n",
       "      <td>...</td>\n",
       "      <td>...</td>\n",
       "      <td>...</td>\n",
       "      <td>...</td>\n",
       "    </tr>\n",
       "    <tr>\n",
       "      <th>230</th>\n",
       "      <td>231</td>\n",
       "      <td>West Bank</td>\n",
       "      <td>Mittlerer Osten</td>\n",
       "      <td>5860</td>\n",
       "      <td>2020298.0</td>\n",
       "      <td>3.300000e+09</td>\n",
       "    </tr>\n",
       "    <tr>\n",
       "      <th>231</th>\n",
       "      <td>232</td>\n",
       "      <td>Westliche Sahara</td>\n",
       "      <td>Afrika</td>\n",
       "      <td>266000</td>\n",
       "      <td>244943.0</td>\n",
       "      <td>NaN</td>\n",
       "    </tr>\n",
       "    <tr>\n",
       "      <th>232</th>\n",
       "      <td>233</td>\n",
       "      <td>Jemen</td>\n",
       "      <td>Mittlerer Osten</td>\n",
       "      <td>527970</td>\n",
       "      <td>17479206.0</td>\n",
       "      <td>1.270000e+10</td>\n",
       "    </tr>\n",
       "    <tr>\n",
       "      <th>233</th>\n",
       "      <td>234</td>\n",
       "      <td>Zambia</td>\n",
       "      <td>Afrika</td>\n",
       "      <td>752614</td>\n",
       "      <td>9582418.0</td>\n",
       "      <td>8.500000e+09</td>\n",
       "    </tr>\n",
       "    <tr>\n",
       "      <th>234</th>\n",
       "      <td>235</td>\n",
       "      <td>Zimbabwe</td>\n",
       "      <td>Afrika</td>\n",
       "      <td>390580</td>\n",
       "      <td>11342521.0</td>\n",
       "      <td>2.650000e+10</td>\n",
       "    </tr>\n",
       "  </tbody>\n",
       "</table>\n",
       "<p>235 rows × 6 columns</p>\n",
       "</div>"
      ],
      "text/plain": [
       "     LID                        Name           Region  Flaeche   Einwohner  \\\n",
       "0      1                 Afghanistan            Asien   652000  25838797.0   \n",
       "1      2                    Albanien           Europa    28748   3490435.0   \n",
       "2      3                    Algerien           Afrika  2381740  31193917.0   \n",
       "3      4  Amerikanische Samoa-Inseln         Ozeanien      199     65446.0   \n",
       "4      5                     Andorra           Europa      468     66824.0   \n",
       "..   ...                         ...              ...      ...         ...   \n",
       "230  231                   West Bank  Mittlerer Osten     5860   2020298.0   \n",
       "231  232            Westliche Sahara           Afrika   266000    244943.0   \n",
       "232  233                       Jemen  Mittlerer Osten   527970  17479206.0   \n",
       "233  234                      Zambia           Afrika   752614   9582418.0   \n",
       "234  235                    Zimbabwe           Afrika   390580  11342521.0   \n",
       "\n",
       "              BIP  \n",
       "0    2.100000e+10  \n",
       "1    5.600000e+09  \n",
       "2    1.476000e+11  \n",
       "3    1.500000e+08  \n",
       "4    1.200000e+09  \n",
       "..            ...  \n",
       "230  3.300000e+09  \n",
       "231           NaN  \n",
       "232  1.270000e+10  \n",
       "233  8.500000e+09  \n",
       "234  2.650000e+10  \n",
       "\n",
       "[235 rows x 6 columns]"
      ]
     },
     "execution_count": 3,
     "metadata": {},
     "output_type": "execute_result"
    }
   ],
   "source": [
    "df"
   ]
  },
  {
   "cell_type": "code",
   "execution_count": null,
   "id": "dca1f5b1",
   "metadata": {},
   "outputs": [],
   "source": []
  }
 ],
 "metadata": {
  "kernelspec": {
   "display_name": "Python 3",
   "language": "python",
   "name": "python3"
  },
  "language_info": {
   "codemirror_mode": {
    "name": "ipython",
    "version": 3
   },
   "file_extension": ".py",
   "mimetype": "text/x-python",
   "name": "python",
   "nbconvert_exporter": "python",
   "pygments_lexer": "ipython3",
   "version": "3.10.4 (main, Nov 29 2022, 20:00:25) [GCC 9.4.0]"
  },
  "vscode": {
   "interpreter": {
    "hash": "3ad933181bd8a04b432d3370b9dc3b0662ad032c4dfaa4e4f1596c548f763858"
   }
  }
 },
 "nbformat": 4,
 "nbformat_minor": 5
}
